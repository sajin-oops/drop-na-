{
 "cells": [
  {
   "cell_type": "code",
   "execution_count": 18,
   "id": "c90a3a1a-3216-46dd-949b-4638d3b661a5",
   "metadata": {},
   "outputs": [
    {
     "data": {
      "text/plain": [
       "0    False\n",
       "1    False\n",
       "2     True\n",
       "dtype: bool"
      ]
     },
     "execution_count": 18,
     "metadata": {},
     "output_type": "execute_result"
    }
   ],
   "source": [
    "import pandas as pd \n",
    "from numpy import nan as na\n",
    "series1 = pd.Series(['sajin','arivu',na])\n",
    "series1.isnull()"
   ]
  },
  {
   "cell_type": "code",
   "execution_count": 46,
   "id": "5397f531-2e14-4a77-bc21-7a54dcff48bf",
   "metadata": {},
   "outputs": [
    {
     "data": {
      "text/plain": [
       "0    1.0\n",
       "2    3.5\n",
       "4    7.0\n",
       "dtype: float64"
      ]
     },
     "execution_count": 46,
     "metadata": {},
     "output_type": "execute_result"
    }
   ],
   "source": [
    "from numpy import nan as na\n",
    "import pandas as pd\n",
    "data = pd.Series([1,na,3.5,na,7])\n",
    "data.dropna()"
   ]
  },
  {
   "cell_type": "code",
   "execution_count": 44,
   "id": "9e1adc87-dc18-4843-8518-7ecacb26f58a",
   "metadata": {},
   "outputs": [
    {
     "data": {
      "text/plain": [
       "0     True\n",
       "1    False\n",
       "2     True\n",
       "3    False\n",
       "4     True\n",
       "dtype: bool"
      ]
     },
     "execution_count": 44,
     "metadata": {},
     "output_type": "execute_result"
    }
   ],
   "source": [
    "from numpy import nan as na\n",
    "import pandas as pd\n",
    "data = pd.Series([1,na,3.5,na,7])\n",
    "data.notnull()"
   ]
  },
  {
   "cell_type": "code",
   "execution_count": null,
   "id": "4912b7bd-c55c-4ae8-9615-6e5e5da88cd6",
   "metadata": {},
   "outputs": [],
   "source": []
  }
 ],
 "metadata": {
  "kernelspec": {
   "display_name": "Python [conda env:base] *",
   "language": "python",
   "name": "conda-base-py"
  },
  "language_info": {
   "codemirror_mode": {
    "name": "ipython",
    "version": 3
   },
   "file_extension": ".py",
   "mimetype": "text/x-python",
   "name": "python",
   "nbconvert_exporter": "python",
   "pygments_lexer": "ipython3",
   "version": "3.12.4"
  }
 },
 "nbformat": 4,
 "nbformat_minor": 5
}
